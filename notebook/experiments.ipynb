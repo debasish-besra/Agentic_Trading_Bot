{
 "cells": [
  {
   "cell_type": "code",
   "execution_count": null,
   "id": "2debe6bf",
   "metadata": {},
   "outputs": [],
   "source": [
    "# Custom exception class to give clean, consistent error reporting.\n",
    "\n",
    "import os  ## not required here\n",
    "import sys  # Needed to access exception info like line numbers and filenames    "
   ]
  },
  {
   "cell_type": "code",
   "execution_count": 6,
   "id": "29c47121",
   "metadata": {},
   "outputs": [],
   "source": [
    "class TradingBotException(Exception):\n",
    "    def __init__(self):\n",
    "        print(\"this message from init\")\n",
    "        \n",
    "    def __str__(self):\n",
    "        print(\"this message from str\")\n",
    "        return \"\"\n",
    "    \n",
    "    def __repr__(self):\n",
    "        print(\"this message from repr\")\n",
    "        return \"\""
   ]
  },
  {
   "cell_type": "code",
   "execution_count": 7,
   "id": "272468eb",
   "metadata": {},
   "outputs": [
    {
     "name": "stdout",
     "output_type": "stream",
     "text": [
      "this message from init\n"
     ]
    }
   ],
   "source": [
    "obj = TradingBotException()"
   ]
  },
  {
   "cell_type": "code",
   "execution_count": 8,
   "id": "80fda5f4",
   "metadata": {},
   "outputs": [
    {
     "name": "stdout",
     "output_type": "stream",
     "text": [
      "this message from str\n",
      "\n"
     ]
    }
   ],
   "source": [
    "\n",
    "print(obj)"
   ]
  },
  {
   "cell_type": "code",
   "execution_count": 9,
   "id": "c25e19eb",
   "metadata": {},
   "outputs": [
    {
     "name": "stdout",
     "output_type": "stream",
     "text": [
      "this message from repr\n"
     ]
    },
    {
     "data": {
      "text/plain": []
     },
     "execution_count": 9,
     "metadata": {},
     "output_type": "execute_result"
    }
   ],
   "source": [
    "obj"
   ]
  },
  {
   "cell_type": "code",
   "execution_count": 10,
   "id": "c6fb82d1",
   "metadata": {},
   "outputs": [],
   "source": [
    "class TradingBotException(Exception):  # Inherit from Python's built-in Exception class\n",
    "    def __init__(self,error_message,error_details_using_sys:sys):\n",
    "        self.error_message = error_message  # Store the original error message\n",
    "\n",
    "         # Extract traceback details using sys module to get line number and filename\n",
    "        _,_,exc_tb = error_details_using_sys.exc_info()\n",
    "        \n",
    "        # Capture the line number where the exception occurred\n",
    "        self.lineno=exc_tb.tb_lineno\n",
    "\n",
    "         # Capture the file name where the exception occurred\n",
    "        self.file_name=exc_tb.tb_frame.f_code.co_filename \n",
    "    \n",
    "    def __str__(self):\n",
    "        \n",
    "        # Custom string representation for logging/debugging\n",
    "        return \"Error occured in python script name [{0}] line number [{1}] error message [{2}]\".format(\n",
    "        self.file_name, self.lineno, str(self.error_message))"
   ]
  },
  {
   "cell_type": "code",
   "execution_count": 29,
   "id": "42b2675f",
   "metadata": {},
   "outputs": [],
   "source": [
    "\n",
    "def test(message):\n",
    "    print(\"add\"+message)\n",
    "    print(sys.exc_info())\n",
    "    #print(sys.exc_info())"
   ]
  },
  {
   "cell_type": "code",
   "execution_count": 30,
   "id": "67dc2248",
   "metadata": {},
   "outputs": [
    {
     "name": "stdout",
     "output_type": "stream",
     "text": [
      "addhi hi hi\n",
      "(None, None, None)\n"
     ]
    }
   ],
   "source": [
    "test(\"hi hi hi\")"
   ]
  },
  {
   "cell_type": "code",
   "execution_count": 28,
   "id": "b5e27639",
   "metadata": {},
   "outputs": [
    {
     "ename": "TradingBotException",
     "evalue": "Error occured in python script name [C:\\Users\\Asus\\AppData\\Local\\Temp\\ipykernel_31192\\638354084.py] line number [2] error message [can only concatenate str (not \"int\") to str]",
     "output_type": "error",
     "traceback": [
      "\u001b[1;31m---------------------------------------------------------------------------\u001b[0m",
      "\u001b[1;31mTypeError\u001b[0m                                 Traceback (most recent call last)",
      "Cell \u001b[1;32mIn[28], line 2\u001b[0m\n\u001b[0;32m      1\u001b[0m \u001b[38;5;28;01mtry\u001b[39;00m:\n\u001b[1;32m----> 2\u001b[0m     \u001b[43mtest\u001b[49m\u001b[43m(\u001b[49m\u001b[38;5;241;43m2\u001b[39;49m\u001b[43m)\u001b[49m\n\u001b[0;32m      3\u001b[0m \u001b[38;5;28;01mexcept\u001b[39;00m \u001b[38;5;167;01mException\u001b[39;00m \u001b[38;5;28;01mas\u001b[39;00m e:\n",
      "Cell \u001b[1;32mIn[26], line 2\u001b[0m, in \u001b[0;36mtest\u001b[1;34m(message)\u001b[0m\n\u001b[0;32m      1\u001b[0m \u001b[38;5;28;01mdef\u001b[39;00m\u001b[38;5;250m \u001b[39m\u001b[38;5;21mtest\u001b[39m(message):\n\u001b[1;32m----> 2\u001b[0m     \u001b[38;5;28mprint\u001b[39m(\u001b[38;5;124;43m\"\u001b[39;49m\u001b[38;5;124;43madd\u001b[39;49m\u001b[38;5;124;43m\"\u001b[39;49m\u001b[38;5;241;43m+\u001b[39;49m\u001b[43mmessage\u001b[49m)\n\u001b[0;32m      3\u001b[0m     \u001b[38;5;28mprint\u001b[39m(sys\u001b[38;5;241m.\u001b[39mexc_info())\n",
      "\u001b[1;31mTypeError\u001b[0m: can only concatenate str (not \"int\") to str",
      "\nDuring handling of the above exception, another exception occurred:\n",
      "\u001b[1;31mTradingBotException\u001b[0m                       Traceback (most recent call last)",
      "Cell \u001b[1;32mIn[28], line 4\u001b[0m\n\u001b[0;32m      2\u001b[0m     test(\u001b[38;5;241m2\u001b[39m)\n\u001b[0;32m      3\u001b[0m \u001b[38;5;28;01mexcept\u001b[39;00m \u001b[38;5;167;01mException\u001b[39;00m \u001b[38;5;28;01mas\u001b[39;00m e:\n\u001b[1;32m----> 4\u001b[0m     \u001b[38;5;28;01mraise\u001b[39;00m TradingBotException(e,sys)\n",
      "\u001b[1;31mTradingBotException\u001b[0m: Error occured in python script name [C:\\Users\\Asus\\AppData\\Local\\Temp\\ipykernel_31192\\638354084.py] line number [2] error message [can only concatenate str (not \"int\") to str]"
     ]
    }
   ],
   "source": [
    "try:\n",
    "    test(2)\n",
    "except Exception as e:\n",
    "    raise TradingBotException(e,sys)"
   ]
  },
  {
   "cell_type": "code",
   "execution_count": 12,
   "id": "9a07870e",
   "metadata": {},
   "outputs": [
    {
     "ename": "TradingBotException",
     "evalue": "Error occured in python script name [C:\\Users\\Asus\\AppData\\Local\\Temp\\ipykernel_31192\\2584503402.py] line number [3] error message [division by zero]",
     "output_type": "error",
     "traceback": [
      "\u001b[1;31m---------------------------------------------------------------------------\u001b[0m",
      "\u001b[1;31mZeroDivisionError\u001b[0m                         Traceback (most recent call last)",
      "Cell \u001b[1;32mIn[12], line 3\u001b[0m\n\u001b[0;32m      2\u001b[0m \u001b[38;5;28;01mtry\u001b[39;00m:\n\u001b[1;32m----> 3\u001b[0m     a\u001b[38;5;241m=\u001b[39m\u001b[38;5;241;43m1\u001b[39;49m\u001b[38;5;241;43m/\u001b[39;49m\u001b[38;5;241;43m0\u001b[39;49m  \u001b[38;5;66;03m# This will raise a ZeroDivisionError\u001b[39;00m\n\u001b[0;32m      4\u001b[0m     \u001b[38;5;28mprint\u001b[39m(\u001b[38;5;124m\"\u001b[39m\u001b[38;5;124mThis will not be printed\u001b[39m\u001b[38;5;124m\"\u001b[39m,a)\n",
      "\u001b[1;31mZeroDivisionError\u001b[0m: division by zero",
      "\nDuring handling of the above exception, another exception occurred:\n",
      "\u001b[1;31mTradingBotException\u001b[0m                       Traceback (most recent call last)",
      "Cell \u001b[1;32mIn[12], line 6\u001b[0m\n\u001b[0;32m      4\u001b[0m     \u001b[38;5;28mprint\u001b[39m(\u001b[38;5;124m\"\u001b[39m\u001b[38;5;124mThis will not be printed\u001b[39m\u001b[38;5;124m\"\u001b[39m,a)\n\u001b[0;32m      5\u001b[0m \u001b[38;5;28;01mexcept\u001b[39;00m \u001b[38;5;167;01mException\u001b[39;00m \u001b[38;5;28;01mas\u001b[39;00m e:\n\u001b[1;32m----> 6\u001b[0m     \u001b[38;5;28;01mraise\u001b[39;00m TradingBotException(e,sys)  \u001b[38;5;66;03m# Converts into your custom error with context\u001b[39;00m\n",
      "\u001b[1;31mTradingBotException\u001b[0m: Error occured in python script name [C:\\Users\\Asus\\AppData\\Local\\Temp\\ipykernel_31192\\2584503402.py] line number [3] error message [division by zero]"
     ]
    }
   ],
   "source": [
    "# if __name__ == '__main__':\n",
    "try:\n",
    "    a=1/0  # This will raise a ZeroDivisionError\n",
    "    print(\"This will not be printed\",a)\n",
    "except Exception as e:\n",
    "    raise TradingBotException(e,sys)  # Converts into your custom error with context"
   ]
  },
  {
   "cell_type": "code",
   "execution_count": 18,
   "id": "f9611169",
   "metadata": {},
   "outputs": [],
   "source": [
    "import logging\n",
    "import os\n",
    "from datetime import datetime\n"
   ]
  },
  {
   "cell_type": "code",
   "execution_count": null,
   "id": "4b2eaf13",
   "metadata": {},
   "outputs": [],
   "source": [
    "LOG_FILE = f\"{datetime.now().strftime('%m_%d_%Y_%H_%M_%S')}.log\"  ## Log File"
   ]
  },
  {
   "cell_type": "code",
   "execution_count": 20,
   "id": "c943e47f",
   "metadata": {},
   "outputs": [],
   "source": [
    "\n",
    "logs_path = os.path.join(os.getcwd(), \"logs\")  # create log path/folder"
   ]
  },
  {
   "cell_type": "code",
   "execution_count": 21,
   "id": "3337011d",
   "metadata": {},
   "outputs": [],
   "source": [
    "os.makedirs(logs_path, exist_ok=True)   ## made a directory"
   ]
  },
  {
   "cell_type": "code",
   "execution_count": 22,
   "id": "1582f041",
   "metadata": {},
   "outputs": [],
   "source": [
    "\n",
    "LOG_FILE_PATH = os.path.join(logs_path, LOG_FILE)"
   ]
  },
  {
   "cell_type": "code",
   "execution_count": 23,
   "id": "00be3a08",
   "metadata": {},
   "outputs": [],
   "source": [
    "logger=logging.getLogger(\"my_agentic_app\")"
   ]
  },
  {
   "cell_type": "code",
   "execution_count": 24,
   "id": "dd36327d",
   "metadata": {},
   "outputs": [],
   "source": [
    "\n",
    "logging.basicConfig(\n",
    "    filename=LOG_FILE_PATH,\n",
    "    format=\"[ %(asctime)s ] %(lineno)d %(name)s - %(levelname)s - %(message)s\",\n",
    "    level=logging.INFO,\n",
    ")"
   ]
  },
  {
   "cell_type": "code",
   "execution_count": 25,
   "id": "6047bf74",
   "metadata": {},
   "outputs": [],
   "source": [
    "\n",
    "logger.info(\"this is my testing message\")"
   ]
  },
  {
   "cell_type": "code",
   "execution_count": null,
   "id": "973b0bd4",
   "metadata": {},
   "outputs": [],
   "source": []
  }
 ],
 "metadata": {
  "kernelspec": {
   "display_name": "Python 3",
   "language": "python",
   "name": "python3"
  },
  "language_info": {
   "codemirror_mode": {
    "name": "ipython",
    "version": 3
   },
   "file_extension": ".py",
   "mimetype": "text/x-python",
   "name": "python",
   "nbconvert_exporter": "python",
   "pygments_lexer": "ipython3",
   "version": "3.10.16"
  }
 },
 "nbformat": 4,
 "nbformat_minor": 5
}
